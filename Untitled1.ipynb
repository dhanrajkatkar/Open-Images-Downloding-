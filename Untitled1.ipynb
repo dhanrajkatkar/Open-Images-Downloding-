{
 "cells": [
  {
   "cell_type": "code",
   "execution_count": 20,
   "metadata": {
    "scrolled": true
   },
   "outputs": [
    {
     "name": "stdout",
     "output_type": "stream",
     "text": [
      "time required for 50 images   0 remaining time  0:00:00\n",
      "0 :  e0c995e9359596dd.jpg\n",
      "1 :  110487ec7e9be60a.jpg\n",
      "2 :  90596bf3313e72e3.jpg\n",
      "3 :  4b3c6afd44adbe59.jpg\n",
      "4 :  69248ebbbea5aa0c.jpg\n",
      "time required for 50 images   16 remaining time  0:01:04\n",
      "5 :  dccfca7007f4829d.jpg\n",
      "6 :  1e3e39601b068e02.jpg\n",
      "7 :  3c079ad7b6018ca4.jpg\n",
      "8 :  ae0487fbd35a0917.jpg\n",
      "9 :  81355c3c8b87d421.jpg\n",
      "time required for 50 images   9 remaining time  0:00:27\n",
      "10 :  8af0ba0c8570704c.jpg\n",
      "11 :  9cb01bc4daa55c49.jpg\n",
      "12 :  67f3e48aac57addc.jpg\n",
      "13 :  4d1a7164a8e856ad.jpg\n",
      "14 :  874f0a9275b8ed9b.jpg\n",
      "time required for 50 images   24 remaining time  0:00:48\n",
      "15 :  582adb14deb25be4.jpg\n",
      "16 :  165b07ae1da11743.jpg\n",
      "17 :  9338ef15df611769.jpg\n",
      "18 :  bdae914f08bd3269.jpg\n",
      "19 :  c8fd081f4d0f2d6a.jpg\n",
      "time required for 50 images   8 remaining time  0:00:08\n",
      "20 :  d5c04991772e88d0.jpg\n",
      "21 :  017f7b9e23d7c908.jpg\n",
      "22 :  d11cd942bc237410.jpg\n",
      "23 :  45196f882bcba075.jpg\n",
      "24 :  1efc8d87eaf351e4.jpg\n"
     ]
    }
   ],
   "source": [
    "#from pycocotools.coco import COCO\n",
    "import requests\n",
    "import os\n",
    "import pandas as pd\n",
    "from datetime import datetime, timedelta\n",
    "\n",
    "# configurations\n",
    "folder_img_count = 5\n",
    "\n",
    "images = pd.read_csv(r'E:/Cemtrex Labs/Open Images/dummy.csv')\n",
    "img_name = images.iloc[:,0].tolist()\n",
    "img_url = images.iloc[:,1].tolist()\n",
    "# image = list(zip(img_name, img_url))\n",
    "\n",
    "total_images = len(img_name)\n",
    "#print(total_images)\n",
    "counter = 0\n",
    "timer = datetime.now()\n",
    "for img,url in zip(img_name, img_url):\n",
    "    if counter % 5 == 0:\n",
    "        tt = (datetime.now() - timer).seconds\n",
    "        print('time required for 50 images  ', tt, 'remaining time ',\n",
    "              (total_images - counter) * timedelta(seconds=tt / 5))\n",
    "        timer = datetime.now()\n",
    "    if counter < 0:\n",
    "        counter += 1\n",
    "        continue\n",
    "    print(counter, \": \", img)\n",
    "    ####### uncomment this when failure occurs #######\n",
    "    # if '000000385341.jpg' == img['file_name']:\n",
    "    #     quit()\n",
    "    ####### till here #######\n",
    "\n",
    "    ####### comment this when failure occurs #######\n",
    "    img_data = requests.get(url).content\n",
    "\n",
    "    folder_name = 'open_data/open_v' + str(counter // folder_img_count)\n",
    "    if not os.path.exists(folder_name):\n",
    "        os.makedirs(folder_name)\n",
    "\n",
    "        #img_data = requests.get(url).content\n",
    "\n",
    "    filename = folder_name + '/' + img\n",
    "    with open(filename, 'wb') as handler:\n",
    "         handler.write(img_data)\n",
    "#     ####### till here #######\n",
    "    counter += 1\n"
   ]
  },
  {
   "cell_type": "code",
   "execution_count": null,
   "metadata": {},
   "outputs": [],
   "source": []
  },
  {
   "cell_type": "code",
   "execution_count": null,
   "metadata": {},
   "outputs": [],
   "source": []
  }
 ],
 "metadata": {
  "kernelspec": {
   "display_name": "Python 3",
   "language": "python",
   "name": "python3"
  },
  "language_info": {
   "codemirror_mode": {
    "name": "ipython",
    "version": 3
   },
   "file_extension": ".py",
   "mimetype": "text/x-python",
   "name": "python",
   "nbconvert_exporter": "python",
   "pygments_lexer": "ipython3",
   "version": "3.6.5"
  }
 },
 "nbformat": 4,
 "nbformat_minor": 2
}
