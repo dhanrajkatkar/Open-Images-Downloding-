{
 "cells": [
  {
   "cell_type": "code",
   "execution_count": 4,
   "metadata": {},
   "outputs": [
    {
     "data": {
      "text/html": [
       "<div>\n",
       "<style scoped>\n",
       "    .dataframe tbody tr th:only-of-type {\n",
       "        vertical-align: middle;\n",
       "    }\n",
       "\n",
       "    .dataframe tbody tr th {\n",
       "        vertical-align: top;\n",
       "    }\n",
       "\n",
       "    .dataframe thead th {\n",
       "        text-align: right;\n",
       "    }\n",
       "</style>\n",
       "<table border=\"1\" class=\"dataframe\">\n",
       "  <thead>\n",
       "    <tr style=\"text-align: right;\">\n",
       "      <th></th>\n",
       "      <th>https://farm7.staticflickr.com/5769/21094803716_da3cea21b8_o.jpg</th>\n",
       "      <th>7825604</th>\n",
       "      <th>EEGQ0ZQ/OxJAIGzfJ6LMvw==</th>\n",
       "    </tr>\n",
       "  </thead>\n",
       "  <tbody>\n",
       "    <tr>\n",
       "      <th>0</th>\n",
       "      <td>https://c1.staticflickr.com/4/3743/11539980784...</td>\n",
       "      <td>4227077</td>\n",
       "      <td>oc+H0KgW0sxyEgAlfOiQDQ==</td>\n",
       "    </tr>\n",
       "    <tr>\n",
       "      <th>1</th>\n",
       "      <td>https://c8.staticflickr.com/7/6007/6010263871_...</td>\n",
       "      <td>1744183</td>\n",
       "      <td>Xufa/rhlOnBQSotR/8Gqhg==</td>\n",
       "    </tr>\n",
       "    <tr>\n",
       "      <th>2</th>\n",
       "      <td>https://c4.staticflickr.com/9/8555/15625756039...</td>\n",
       "      <td>461828</td>\n",
       "      <td>uPw/ycB1skL/byjF0AYJKA==</td>\n",
       "    </tr>\n",
       "    <tr>\n",
       "      <th>3</th>\n",
       "      <td>https://farm8.staticflickr.com/7214/7337479734...</td>\n",
       "      <td>165352</td>\n",
       "      <td>NRy8lYJlGUkHRRzeY65smw==</td>\n",
       "    </tr>\n",
       "    <tr>\n",
       "      <th>4</th>\n",
       "      <td>https://farm2.staticflickr.com/3299/3509371657...</td>\n",
       "      <td>224667</td>\n",
       "      <td>MXSNPEBGjmYxSa8MG6z6Ww==</td>\n",
       "    </tr>\n",
       "  </tbody>\n",
       "</table>\n",
       "</div>"
      ],
      "text/plain": [
       "  https://farm7.staticflickr.com/5769/21094803716_da3cea21b8_o.jpg  7825604  \\\n",
       "0  https://c1.staticflickr.com/4/3743/11539980784...                4227077   \n",
       "1  https://c8.staticflickr.com/7/6007/6010263871_...                1744183   \n",
       "2  https://c4.staticflickr.com/9/8555/15625756039...                 461828   \n",
       "3  https://farm8.staticflickr.com/7214/7337479734...                 165352   \n",
       "4  https://farm2.staticflickr.com/3299/3509371657...                 224667   \n",
       "\n",
       "   EEGQ0ZQ/OxJAIGzfJ6LMvw==  \n",
       "0  oc+H0KgW0sxyEgAlfOiQDQ==  \n",
       "1  Xufa/rhlOnBQSotR/8Gqhg==  \n",
       "2  uPw/ycB1skL/byjF0AYJKA==  \n",
       "3  NRy8lYJlGUkHRRzeY65smw==  \n",
       "4  MXSNPEBGjmYxSa8MG6z6Ww==  "
      ]
     },
     "execution_count": 4,
     "metadata": {},
     "output_type": "execute_result"
    }
   ],
   "source": [
    "import pandas as pd\n",
    "\n",
    "df = pd.read_csv(r'E:/Cemtrex Labs/Open Images/open-images-dataset-test.tsv', sep = \"\\t\")\n",
    "df.head()"
   ]
  },
  {
   "cell_type": "code",
   "execution_count": 12,
   "metadata": {},
   "outputs": [],
   "source": [
    "df.columns = ['url', 'number', 'hash']"
   ]
  },
  {
   "cell_type": "code",
   "execution_count": 13,
   "metadata": {},
   "outputs": [
    {
     "data": {
      "text/html": [
       "<div>\n",
       "<style scoped>\n",
       "    .dataframe tbody tr th:only-of-type {\n",
       "        vertical-align: middle;\n",
       "    }\n",
       "\n",
       "    .dataframe tbody tr th {\n",
       "        vertical-align: top;\n",
       "    }\n",
       "\n",
       "    .dataframe thead th {\n",
       "        text-align: right;\n",
       "    }\n",
       "</style>\n",
       "<table border=\"1\" class=\"dataframe\">\n",
       "  <thead>\n",
       "    <tr style=\"text-align: right;\">\n",
       "      <th></th>\n",
       "      <th>url</th>\n",
       "      <th>number</th>\n",
       "      <th>hash</th>\n",
       "    </tr>\n",
       "  </thead>\n",
       "  <tbody>\n",
       "    <tr>\n",
       "      <th>0</th>\n",
       "      <td>https://c1.staticflickr.com/4/3743/11539980784...</td>\n",
       "      <td>4227077</td>\n",
       "      <td>oc+H0KgW0sxyEgAlfOiQDQ==</td>\n",
       "    </tr>\n",
       "    <tr>\n",
       "      <th>1</th>\n",
       "      <td>https://c8.staticflickr.com/7/6007/6010263871_...</td>\n",
       "      <td>1744183</td>\n",
       "      <td>Xufa/rhlOnBQSotR/8Gqhg==</td>\n",
       "    </tr>\n",
       "    <tr>\n",
       "      <th>2</th>\n",
       "      <td>https://c4.staticflickr.com/9/8555/15625756039...</td>\n",
       "      <td>461828</td>\n",
       "      <td>uPw/ycB1skL/byjF0AYJKA==</td>\n",
       "    </tr>\n",
       "    <tr>\n",
       "      <th>3</th>\n",
       "      <td>https://farm8.staticflickr.com/7214/7337479734...</td>\n",
       "      <td>165352</td>\n",
       "      <td>NRy8lYJlGUkHRRzeY65smw==</td>\n",
       "    </tr>\n",
       "    <tr>\n",
       "      <th>4</th>\n",
       "      <td>https://farm2.staticflickr.com/3299/3509371657...</td>\n",
       "      <td>224667</td>\n",
       "      <td>MXSNPEBGjmYxSa8MG6z6Ww==</td>\n",
       "    </tr>\n",
       "  </tbody>\n",
       "</table>\n",
       "</div>"
      ],
      "text/plain": [
       "                                                 url   number  \\\n",
       "0  https://c1.staticflickr.com/4/3743/11539980784...  4227077   \n",
       "1  https://c8.staticflickr.com/7/6007/6010263871_...  1744183   \n",
       "2  https://c4.staticflickr.com/9/8555/15625756039...   461828   \n",
       "3  https://farm8.staticflickr.com/7214/7337479734...   165352   \n",
       "4  https://farm2.staticflickr.com/3299/3509371657...   224667   \n",
       "\n",
       "                       hash  \n",
       "0  oc+H0KgW0sxyEgAlfOiQDQ==  \n",
       "1  Xufa/rhlOnBQSotR/8Gqhg==  \n",
       "2  uPw/ycB1skL/byjF0AYJKA==  \n",
       "3  NRy8lYJlGUkHRRzeY65smw==  \n",
       "4  MXSNPEBGjmYxSa8MG6z6Ww==  "
      ]
     },
     "execution_count": 13,
     "metadata": {},
     "output_type": "execute_result"
    }
   ],
   "source": [
    "df.head()"
   ]
  },
  {
   "cell_type": "code",
   "execution_count": 14,
   "metadata": {},
   "outputs": [
    {
     "data": {
      "text/plain": [
       "3363"
      ]
     },
     "execution_count": 14,
     "metadata": {},
     "output_type": "execute_result"
    }
   ],
   "source": [
    "len(df.number) - len(set(df.number))"
   ]
  },
  {
   "cell_type": "code",
   "execution_count": 15,
   "metadata": {},
   "outputs": [
    {
     "data": {
      "text/plain": [
       "18"
      ]
     },
     "execution_count": 15,
     "metadata": {},
     "output_type": "execute_result"
    }
   ],
   "source": [
    "len(df.hash) - len(set(df.hash))"
   ]
  },
  {
   "cell_type": "code",
   "execution_count": 16,
   "metadata": {},
   "outputs": [
    {
     "data": {
      "text/plain": [
       "0         https://c1.staticflickr.com/4/3743/11539980784...\n",
       "1         https://c8.staticflickr.com/7/6007/6010263871_...\n",
       "2         https://c4.staticflickr.com/9/8555/15625756039...\n",
       "3         https://farm8.staticflickr.com/7214/7337479734...\n",
       "4         https://farm2.staticflickr.com/3299/3509371657...\n",
       "5         https://farm1.staticflickr.com/2934/1443912275...\n",
       "6         https://c8.staticflickr.com/4/3837/14866578404...\n",
       "7         https://c4.staticflickr.com/6/5526/10651532013...\n",
       "8         https://c4.staticflickr.com/1/52/129983132_b66...\n",
       "9         https://farm2.staticflickr.com/7221/7223448196...\n",
       "10        https://c3.staticflickr.com/4/3372/3557249560_...\n",
       "11        https://c1.staticflickr.com/4/3837/14230768839...\n",
       "12        https://c7.staticflickr.com/6/5293/5519261614_...\n",
       "13        https://c1.staticflickr.com/6/5302/5604843970_...\n",
       "14        https://c4.staticflickr.com/1/55/155642663_7e2...\n",
       "15        https://c8.staticflickr.com/1/33/48901634_c792...\n",
       "16        https://c4.staticflickr.com/9/8076/8425490694_...\n",
       "17        https://farm5.staticflickr.com/3710/1092114996...\n",
       "18        https://farm1.staticflickr.com/7168/6812825195...\n",
       "19        https://c1.staticflickr.com/8/7687/17388444741...\n",
       "20        https://c6.staticflickr.com/4/3661/3291298501_...\n",
       "21        https://c8.staticflickr.com/1/95/225924145_085...\n",
       "22        https://c1.staticflickr.com/1/1/359504_987ba12...\n",
       "23        https://farm8.staticflickr.com/5517/1162169725...\n",
       "24        https://c6.staticflickr.com/6/5158/5835265287_...\n",
       "25        https://c6.staticflickr.com/6/5642/20538800186...\n",
       "26        https://c6.staticflickr.com/1/359/20236827906_...\n",
       "27        https://c1.staticflickr.com/1/97/240863221_36c...\n",
       "28        https://farm3.staticflickr.com/2779/4446802603...\n",
       "29        https://farm8.staticflickr.com/4122/5221106861...\n",
       "                                ...                        \n",
       "125405    https://c8.staticflickr.com/9/8495/8347374090_...\n",
       "125406    https://farm2.staticflickr.com/3147/3091763416...\n",
       "125407    https://farm8.staticflickr.com/8665/1600560252...\n",
       "125408    https://farm3.staticflickr.com/44/145971109_3c...\n",
       "125409    https://farm7.staticflickr.com/2617/4143551564...\n",
       "125410    https://farm1.staticflickr.com/3632/3662055850...\n",
       "125411    https://farm6.staticflickr.com/700/21214386970...\n",
       "125412    https://c8.staticflickr.com/1/187/496046592_b4...\n",
       "125413    https://c2.staticflickr.com/9/8756/17028210963...\n",
       "125414    https://farm7.staticflickr.com/7578/1579959480...\n",
       "125415    https://c6.staticflickr.com/3/2358/1981022465_...\n",
       "125416    https://c7.staticflickr.com/8/7315/16355998500...\n",
       "125417    https://farm6.staticflickr.com/117/292553662_c...\n",
       "125418    https://c2.staticflickr.com/1/524/19255128896_...\n",
       "125419    https://farm3.staticflickr.com/3174/2567387189...\n",
       "125420    https://c7.staticflickr.com/4/3020/2665822925_...\n",
       "125421    https://c1.staticflickr.com/9/8690/16228490173...\n",
       "125422    https://c8.staticflickr.com/1/384/18894334134_...\n",
       "125423    https://c3.staticflickr.com/4/3680/13801019573...\n",
       "125424    https://c5.staticflickr.com/1/107/283901905_1d...\n",
       "125425    https://c6.staticflickr.com/4/3274/2810300741_...\n",
       "125426    https://c4.staticflickr.com/1/164/376856551_5b...\n",
       "125427    https://farm3.staticflickr.com/3700/1026959730...\n",
       "125428    https://c8.staticflickr.com/3/2431/3748862385_...\n",
       "125429    https://c7.staticflickr.com/1/105/287385858_f8...\n",
       "125430    https://farm6.staticflickr.com/5546/9698956100...\n",
       "125431    https://c8.staticflickr.com/1/125/330172218_db...\n",
       "125432    https://c6.staticflickr.com/8/7795/17631505312...\n",
       "125433    https://c8.staticflickr.com/1/32/50683587_4cc7...\n",
       "125434    https://c3.staticflickr.com/4/3588/3578190857_...\n",
       "Name: url, Length: 125435, dtype: object"
      ]
     },
     "execution_count": 16,
     "metadata": {},
     "output_type": "execute_result"
    }
   ],
   "source": [
    "df.url"
   ]
  },
  {
   "cell_type": "code",
   "execution_count": null,
   "metadata": {},
   "outputs": [],
   "source": []
  }
 ],
 "metadata": {
  "kernelspec": {
   "display_name": "Python 3",
   "language": "python",
   "name": "python3"
  },
  "language_info": {
   "codemirror_mode": {
    "name": "ipython",
    "version": 3
   },
   "file_extension": ".py",
   "mimetype": "text/x-python",
   "name": "python",
   "nbconvert_exporter": "python",
   "pygments_lexer": "ipython3",
   "version": "3.6.5"
  }
 },
 "nbformat": 4,
 "nbformat_minor": 2
}
