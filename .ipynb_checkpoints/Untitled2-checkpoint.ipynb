{
 "cells": [
  {
   "cell_type": "code",
   "execution_count": 4,
   "metadata": {},
   "outputs": [
    {
     "data": {
      "text/html": [
       "<div>\n",
       "<style scoped>\n",
       "    .dataframe tbody tr th:only-of-type {\n",
       "        vertical-align: middle;\n",
       "    }\n",
       "\n",
       "    .dataframe tbody tr th {\n",
       "        vertical-align: top;\n",
       "    }\n",
       "\n",
       "    .dataframe thead th {\n",
       "        text-align: right;\n",
       "    }\n",
       "</style>\n",
       "<table border=\"1\" class=\"dataframe\">\n",
       "  <thead>\n",
       "    <tr style=\"text-align: right;\">\n",
       "      <th></th>\n",
       "      <th>https://farm7.staticflickr.com/5769/21094803716_da3cea21b8_o.jpg</th>\n",
       "      <th>7825604</th>\n",
       "      <th>EEGQ0ZQ/OxJAIGzfJ6LMvw==</th>\n",
       "    </tr>\n",
       "  </thead>\n",
       "  <tbody>\n",
       "    <tr>\n",
       "      <th>0</th>\n",
       "      <td>https://c1.staticflickr.com/4/3743/11539980784...</td>\n",
       "      <td>4227077</td>\n",
       "      <td>oc+H0KgW0sxyEgAlfOiQDQ==</td>\n",
       "    </tr>\n",
       "    <tr>\n",
       "      <th>1</th>\n",
       "      <td>https://c8.staticflickr.com/7/6007/6010263871_...</td>\n",
       "      <td>1744183</td>\n",
       "      <td>Xufa/rhlOnBQSotR/8Gqhg==</td>\n",
       "    </tr>\n",
       "    <tr>\n",
       "      <th>2</th>\n",
       "      <td>https://c4.staticflickr.com/9/8555/15625756039...</td>\n",
       "      <td>461828</td>\n",
       "      <td>uPw/ycB1skL/byjF0AYJKA==</td>\n",
       "    </tr>\n",
       "    <tr>\n",
       "      <th>3</th>\n",
       "      <td>https://farm8.staticflickr.com/7214/7337479734...</td>\n",
       "      <td>165352</td>\n",
       "      <td>NRy8lYJlGUkHRRzeY65smw==</td>\n",
       "    </tr>\n",
       "    <tr>\n",
       "      <th>4</th>\n",
       "      <td>https://farm2.staticflickr.com/3299/3509371657...</td>\n",
       "      <td>224667</td>\n",
       "      <td>MXSNPEBGjmYxSa8MG6z6Ww==</td>\n",
       "    </tr>\n",
       "  </tbody>\n",
       "</table>\n",
       "</div>"
      ],
      "text/plain": [
       "  https://farm7.staticflickr.com/5769/21094803716_da3cea21b8_o.jpg  7825604  \\\n",
       "0  https://c1.staticflickr.com/4/3743/11539980784...                4227077   \n",
       "1  https://c8.staticflickr.com/7/6007/6010263871_...                1744183   \n",
       "2  https://c4.staticflickr.com/9/8555/15625756039...                 461828   \n",
       "3  https://farm8.staticflickr.com/7214/7337479734...                 165352   \n",
       "4  https://farm2.staticflickr.com/3299/3509371657...                 224667   \n",
       "\n",
       "   EEGQ0ZQ/OxJAIGzfJ6LMvw==  \n",
       "0  oc+H0KgW0sxyEgAlfOiQDQ==  \n",
       "1  Xufa/rhlOnBQSotR/8Gqhg==  \n",
       "2  uPw/ycB1skL/byjF0AYJKA==  \n",
       "3  NRy8lYJlGUkHRRzeY65smw==  \n",
       "4  MXSNPEBGjmYxSa8MG6z6Ww==  "
      ]
     },
     "execution_count": 4,
     "metadata": {},
     "output_type": "execute_result"
    }
   ],
   "source": [
    "import pandas as pd\n",
    "\n",
    "df = pd.read_csv(r'E:/Cemtrex Labs/Open Images/open-images-dataset-test.tsv', sep = \"\\t\")\n",
    "df.head()"
   ]
  },
  {
   "cell_type": "code",
   "execution_count": 5,
   "metadata": {},
   "outputs": [
    {
     "ename": "TypeError",
     "evalue": "'Index' object is not callable",
     "output_type": "error",
     "traceback": [
      "\u001b[1;31m---------------------------------------------------------------------------\u001b[0m",
      "\u001b[1;31mTypeError\u001b[0m                                 Traceback (most recent call last)",
      "\u001b[1;32m<ipython-input-5-a3f21f4aa415>\u001b[0m in \u001b[0;36m<module>\u001b[1;34m()\u001b[0m\n\u001b[1;32m----> 1\u001b[1;33m \u001b[0mdf\u001b[0m\u001b[1;33m.\u001b[0m\u001b[0mcolumns\u001b[0m\u001b[1;33m(\u001b[0m\u001b[1;33m[\u001b[0m\u001b[1;34m'url'\u001b[0m\u001b[1;33m,\u001b[0m \u001b[1;34m'number'\u001b[0m\u001b[1;33m,\u001b[0m \u001b[1;34m'Gajaa'\u001b[0m\u001b[1;33m]\u001b[0m\u001b[1;33m)\u001b[0m\u001b[1;33m\u001b[0m\u001b[0m\n\u001b[0m",
      "\u001b[1;31mTypeError\u001b[0m: 'Index' object is not callable"
     ]
    }
   ],
   "source": [
    "df.columns = ['url', 'number', 'Gajaa']"
   ]
  },
  {
   "cell_type": "code",
   "execution_count": null,
   "metadata": {},
   "outputs": [],
   "source": []
  }
 ],
 "metadata": {
  "kernelspec": {
   "display_name": "Python 3",
   "language": "python",
   "name": "python3"
  },
  "language_info": {
   "codemirror_mode": {
    "name": "ipython",
    "version": 3
   },
   "file_extension": ".py",
   "mimetype": "text/x-python",
   "name": "python",
   "nbconvert_exporter": "python",
   "pygments_lexer": "ipython3",
   "version": "3.6.5"
  }
 },
 "nbformat": 4,
 "nbformat_minor": 2
}
