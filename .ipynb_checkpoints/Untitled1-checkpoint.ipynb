{
 "cells": [
  {
   "cell_type": "code",
   "execution_count": null,
   "metadata": {
    "scrolled": true
   },
   "outputs": [
    {
     "name": "stdout",
     "output_type": "stream",
     "text": [
      "time required for 50 images   0 remaining time  0:00:00\n",
      "0 :  e0c995e9359596dd.jpg\n",
      "1 :  110487ec7e9be60a.jpg\n",
      "2 :  90596bf3313e72e3.jpg\n"
     ]
    }
   ],
   "source": [
    "#from pycocotools.coco import COCO\n",
    "import requests\n",
    "import os\n",
    "import pandas as pd\n",
    "from datetime import datetime, timedelta\n",
    "\n",
    "# configurations\n",
    "folder_img_count = 5\n",
    "\n",
    "images = pd.read_csv(r'E:/Cemtrex Labs/Open Images/dummy.csv')\n",
    "img_name = images.iloc[:,0].tolist()\n",
    "img_url = images.iloc[:,1].tolist()\n",
    "# image = list(zip(img_name, img_url))\n",
    "\n",
    "total_images = len(img_name)\n",
    "#print(total_images)\n",
    "counter = 0\n",
    "timer = datetime.now()\n",
    "for img,url in zip(img_name, img_url):\n",
    "    if counter % 50 == 0:\n",
    "        tt = (datetime.now() - timer).seconds\n",
    "        print('time required for 50 images  ', tt, 'remaining time ',\n",
    "              (total_images - counter) * timedelta(seconds=tt / 50))\n",
    "        timer = datetime.now()\n",
    "    if counter < 0:\n",
    "        counter += 1\n",
    "        continue\n",
    "    print(counter, \": \", img)\n",
    "    ####### uncomment this when failure occurs #######\n",
    "    # if '000000385341.jpg' == img['file_name']:\n",
    "    #     quit()\n",
    "    ####### till here #######\n",
    "\n",
    "    ####### comment this when failure occurs #######\n",
    "    img_data = requests.get(url).content\n",
    "\n",
    "    folder_name = 'open_data/open_v' + str(counter // folder_img_count)\n",
    "    if not os.path.exists(folder_name):\n",
    "        os.makedirs(folder_name)\n",
    "# #         with open(folder_name + \"/annotations_v\" + str(counter // folder_img_count) + '.csv', \"a+\") as myfile:\n",
    "# #             myfile.write('file_name,classes,xmin,ymin,xmax,ymax\\n')\n",
    "\n",
    "    filename = img\n",
    "    with open(filename, 'wb') as handler:\n",
    "        handler.write(img_data)\n",
    "#     ####### till here #######\n",
    "    counter += 1\n"
   ]
  },
  {
   "cell_type": "code",
   "execution_count": null,
   "metadata": {},
   "outputs": [],
   "source": []
  }
 ],
 "metadata": {
  "kernelspec": {
   "display_name": "Python 3",
   "language": "python",
   "name": "python3"
  },
  "language_info": {
   "codemirror_mode": {
    "name": "ipython",
    "version": 3
   },
   "file_extension": ".py",
   "mimetype": "text/x-python",
   "name": "python",
   "nbconvert_exporter": "python",
   "pygments_lexer": "ipython3",
   "version": "3.6.5"
  }
 },
 "nbformat": 4,
 "nbformat_minor": 2
}
